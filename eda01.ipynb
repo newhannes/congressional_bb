{
 "cells": [
  {
   "cell_type": "code",
   "execution_count": 1,
   "metadata": {},
   "outputs": [],
   "source": [
    "import pandas as pd \n",
    "import openpyxl\n",
    "import os"
   ]
  },
  {
   "cell_type": "code",
   "execution_count": 33,
   "metadata": {},
   "outputs": [],
   "source": [
    "path = r'C:\\Users\\DSikkink\\Downloads\\congressional_baseball'\n",
    "df = pd.read_excel(os.path.join(path, \"congressional_bb_stats_0919.xlsx\"), engine='openpyxl')"
   ]
  },
  {
   "cell_type": "code",
   "execution_count": 34,
   "metadata": {},
   "outputs": [],
   "source": [
    "long_string = \"\"\"Assist (A)\n",
    "    Caught Stealing Percentage (CS%)\n",
    "    Double Play (DP)\n",
    "    Error (E)\n",
    "    Fielding Percentage (FPCT)\n",
    "    Innings Played (INN)\n",
    "    Out (O)\n",
    "    Outfield Assist (OFA)\n",
    "    Passed Ball (PB)\n",
    "    Putout (PO)\n",
    "    Total Chances (TC)\n",
    "    Triple Play (TP)\n",
    "    At-bat (AB)\n",
    "    Batting Average (AVG)\n",
    "    Caught Stealing (CS)\n",
    "    Double (2B)\n",
    "    Extra-base Hit (XBH)\n",
    "    Games Played (G)\n",
    "    Grand Slam (GSH)\n",
    "    Ground Into Double Play (GIDP)\n",
    "    Groundout-to-Airout Ratio (GO/AO)\n",
    "    Hit-by-pitch (HBP)\n",
    "    Hit (H)\n",
    "    Home Run (HR)\n",
    "    Intentional Walk (IBB)\n",
    "    Left On Base (LOB)\n",
    "    On-base Percentage (OBP)\n",
    "    On-base Plus Slugging (OPS)\n",
    "    Plate Appearance (PA)\n",
    "    Reached On Error (ROE)\n",
    "    Run (R)\n",
    "    Runs Batted In (RBI)\n",
    "    Sacrifice Bunt (SH)\n",
    "    Sacrifice Fly (SF)\n",
    "    Single (1B)\n",
    "    Slugging Percentage (SLG)\n",
    "    Stolen Base (SB)\n",
    "    Stolen-base Percentage (SB%)\n",
    "    Total Bases (TB)\n",
    "    Triple (3B)\n",
    "    Walk (BB)\n",
    "    Walk-off (WO)\n",
    "    Appearance (App)\n",
    "    Balk (BK)\n",
    "    Batters Faced (BF)\n",
    "    Blown Save (BS)\n",
    "    Complete Game (CG)\n",
    "    Earned Run (ER)\n",
    "    Earned Run Average (ERA)\n",
    "    Games Finished (GF)\n",
    "    Games Started (GS)\n",
    "    Hold (HLD)\n",
    "    Inherited Runner (IR)\n",
    "    Innings Pitched (IP)\n",
    "    Loss (L)\n",
    "    Number of Pitches (NP)\n",
    "    Pickoff (PK)\n",
    "    Quality Start (QS)\n",
    "    Relief Win (RW)\n",
    "    Save (SV)\n",
    "    Save Opportunity (SVO)\n",
    "    Save Percentage (SV%)\n",
    "    Shutout (SHO)\n",
    "    Strikeout (SO, K)\n",
    "    Unearned Run (UER)\n",
    "    Walks And Hits Per Inning Pitched (WHIP)\n",
    "    Wild Pitch (WP)\n",
    "    Win (W)\n",
    "    Winning Percentage (WPCT)\"\"\"\n",
    "\n",
    "string_list = long_string.replace(\"\\n\", \"\").split(\")\")\n",
    "string_list = [x.strip() for x in string_list if x.strip() != \"\"]\n",
    "string_list = [x + \")\" for x in string_list]\n",
    "dictionary = {x.split('(')[1].strip(')'): x.split('(')[0].strip() for x in string_list}\n",
    "df = df.rename(columns=dictionary)"
   ]
  },
  {
   "cell_type": "code",
   "execution_count": 35,
   "metadata": {},
   "outputs": [],
   "source": [
    "og_cols = df.columns"
   ]
  },
  {
   "cell_type": "code",
   "execution_count": 36,
   "metadata": {},
   "outputs": [
    {
     "name": "stdout",
     "output_type": "stream",
     "text": [
      "UBR was dropped\n",
      "wGDP was dropped\n",
      "Fielding was dropped\n",
      "Positional was dropped\n",
      "Defense was dropped\n",
      "League was dropped\n"
     ]
    }
   ],
   "source": [
    "df.dropna(thresh=len(df) * 0.1, axis=1, inplace=True) #drops columns with more than 90% of the data missing. (dropped 6)\n",
    "new_cols = df.columns\n",
    "for col in og_cols:\n",
    "    if col not in new_cols:\n",
    "        print(col, \"was dropped\")"
   ]
  },
  {
   "cell_type": "code",
   "execution_count": 50,
   "metadata": {},
   "outputs": [],
   "source": [
    "df.to_excel(os.path.join(path, \"cleaned_congressional_bb.xlsx\"), engine='openpyxl')\n"
   ]
  }
 ],
 "metadata": {
  "kernelspec": {
   "display_name": "Python 3",
   "language": "python",
   "name": "python3"
  },
  "language_info": {
   "codemirror_mode": {
    "name": "ipython",
    "version": 3
   },
   "file_extension": ".py",
   "mimetype": "text/x-python",
   "name": "python",
   "nbconvert_exporter": "python",
   "pygments_lexer": "ipython3",
   "version": "3.11.7"
  }
 },
 "nbformat": 4,
 "nbformat_minor": 2
}
